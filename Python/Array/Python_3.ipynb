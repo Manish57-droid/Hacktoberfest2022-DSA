{
 "cells": [
  {
   "cell_type": "markdown",
   "metadata": {
    "colab_type": "text",
    "id": "YNqh1aoM-_m2"
   },
   "source": [
    "# **Decision Structurees and Boolean Logic**"
   ]
  },
  {
   "cell_type": "markdown",
   "metadata": {
    "colab_type": "text",
    "id": "7OphIBcdzY_B"
   },
   "source": [
    "# **Python Conditions and If statements**"
   ]
  },
  {
   "cell_type": "markdown",
   "metadata": {
    "colab_type": "text",
    "id": "PKFPi4L2_syx"
   },
   "source": [
    "\n",
    "\n",
    "Python supports the usual logical conditions from mathematics:\n",
    "\n",
    "* Equals: `a == b?`\n",
    "* Not Equals: `a != b?`\n",
    "* Less than: `a < b?`\n",
    "* Less than or equal to: `a <= b?`\n",
    "* Greater than: `a > b?`\n",
    "* Greater than or equal to: `a >= b?`\n",
    "\n",
    "These conditions can be used in several ways, most commonly in \"if statements\" and loops.\n"
   ]
  },
  {
   "cell_type": "markdown",
   "metadata": {
    "colab_type": "text",
    "id": "Z7BdBvZpHARm"
   },
   "source": [
    "## **`if` statements**"
   ]
  },
  {
   "cell_type": "markdown",
   "metadata": {
    "colab_type": "text",
    "id": "uvX8ysBJHRZC"
   },
   "source": [
    "An \"if statement\" is written by using the `if` keyword."
   ]
  },
  {
   "cell_type": "code",
   "execution_count": null,
   "metadata": {
    "colab": {
     "base_uri": "https://localhost:8080/",
     "height": 34
    },
    "colab_type": "code",
    "executionInfo": {
     "elapsed": 1475,
     "status": "ok",
     "timestamp": 1598421671620,
     "user": {
      "displayName": "Muneendra Ojha",
      "photoUrl": "",
      "userId": "10449312593596927815"
     },
     "user_tz": -330
    },
    "id": "gqmLV-xWALSr",
    "outputId": "25e8cd38-1781-4a28-cf02-307dee9b6663"
   },
   "outputs": [
    {
     "name": "stdout",
     "output_type": "stream",
     "text": [
      "b is greater than a\n"
     ]
    }
   ],
   "source": [
    "# If statement:\n",
    "\n",
    "a = 33\n",
    "b = 200\n",
    "if b > a:\n",
    "    print(\"b is greater than a\")"
   ]
  },
  {
   "cell_type": "markdown",
   "metadata": {
    "colab_type": "text",
    "id": "4n4H_XpVAedB"
   },
   "source": [
    "## **Indentation**"
   ]
  },
  {
   "cell_type": "markdown",
   "metadata": {
    "colab_type": "text",
    "id": "p6BL4uYhAY0N"
   },
   "source": [
    "* Python relies on indentation (whitespace at the beginning of a line) to define scope in the code. \n",
    "* Other programming languages often use curly-brackets for this purpose."
   ]
  },
  {
   "cell_type": "code",
   "execution_count": 2,
   "metadata": {
    "colab": {
     "base_uri": "https://localhost:8080/",
     "height": 34
    },
    "colab_type": "code",
    "executionInfo": {
     "elapsed": 1256,
     "status": "ok",
     "timestamp": 1598421751306,
     "user": {
      "displayName": "Muneendra Ojha",
      "photoUrl": "",
      "userId": "10449312593596927815"
     },
     "user_tz": -330
    },
    "id": "IBJemKlOAnF8",
    "outputId": "c244d121-31f3-47e0-9f94-986d7e1a8dad"
   },
   "outputs": [
    {
     "name": "stdout",
     "output_type": "stream",
     "text": [
      "b is greater than a\n"
     ]
    }
   ],
   "source": [
    "# If statement, without indentation (will raise an error):\n",
    "\n",
    "a = 33\n",
    "b = 200\n",
    "if b > a:\n",
    "    print(\"b is greater than a\") # you will get an error"
   ]
  },
  {
   "cell_type": "markdown",
   "metadata": {
    "colab_type": "text",
    "id": "D63wOPwmAzQi"
   },
   "source": [
    "## **`elif`**"
   ]
  },
  {
   "cell_type": "markdown",
   "metadata": {
    "colab_type": "text",
    "id": "HZenhzQeA-2z"
   },
   "source": [
    "* The elif keyword is pythons way of saying \"if the previous conditions were not true, then try this condition\"."
   ]
  },
  {
   "cell_type": "code",
   "execution_count": 4,
   "metadata": {
    "colab": {
     "base_uri": "https://localhost:8080/",
     "height": 34
    },
    "colab_type": "code",
    "executionInfo": {
     "elapsed": 1235,
     "status": "ok",
     "timestamp": 1598421815262,
     "user": {
      "displayName": "Muneendra Ojha",
      "photoUrl": "",
      "userId": "10449312593596927815"
     },
     "user_tz": -330
    },
    "id": "TcHkU0xKApQM",
    "outputId": "7828ac69-7633-4d05-d72a-cdd88b27e607"
   },
   "outputs": [
    {
     "name": "stdout",
     "output_type": "stream",
     "text": [
      "a and b are equal\n"
     ]
    }
   ],
   "source": [
    "a = 33\n",
    "b = 33\n",
    "if b > a:\n",
    "    print(\"b is greater than a\")\n",
    "elif a == b:\n",
    "    print(\"a and b are equal\")"
   ]
  },
  {
   "cell_type": "markdown",
   "metadata": {
    "colab_type": "text",
    "id": "ShQInmF_BBuN"
   },
   "source": [
    "## **`else`**"
   ]
  },
  {
   "cell_type": "markdown",
   "metadata": {
    "colab_type": "text",
    "id": "vCjOlVujBKCH"
   },
   "source": [
    "* The else keyword catches anything which isn't caught by the preceding conditions."
   ]
  },
  {
   "cell_type": "code",
   "execution_count": null,
   "metadata": {
    "colab": {
     "base_uri": "https://localhost:8080/",
     "height": 34
    },
    "colab_type": "code",
    "executionInfo": {
     "elapsed": 1267,
     "status": "ok",
     "timestamp": 1598421847286,
     "user": {
      "displayName": "Muneendra Ojha",
      "photoUrl": "",
      "userId": "10449312593596927815"
     },
     "user_tz": -330
    },
    "id": "ErFeZ1IuBNBU",
    "outputId": "ad634b71-8a22-4cad-ff5f-e6e4aaf691ce"
   },
   "outputs": [
    {
     "name": "stdout",
     "output_type": "stream",
     "text": [
      "a is greater than b\n"
     ]
    }
   ],
   "source": [
    "a = 200\n",
    "b = 33\n",
    "if b > a:\n",
    "  print(\"b is greater than a\")\n",
    "elif a == b:\n",
    "  print(\"a and b are equal\")\n",
    "else:\n",
    "  print(\"a is greater than b\")"
   ]
  },
  {
   "cell_type": "markdown",
   "metadata": {
    "colab_type": "text",
    "id": "RaNUIqQOBOOe"
   },
   "source": [
    "You can also have an else without the elif:"
   ]
  },
  {
   "cell_type": "code",
   "execution_count": null,
   "metadata": {
    "colab": {
     "base_uri": "https://localhost:8080/",
     "height": 34
    },
    "colab_type": "code",
    "executionInfo": {
     "elapsed": 1239,
     "status": "ok",
     "timestamp": 1598421858257,
     "user": {
      "displayName": "Muneendra Ojha",
      "photoUrl": "",
      "userId": "10449312593596927815"
     },
     "user_tz": -330
    },
    "id": "daC4qdgSBZik",
    "outputId": "dd2f52d5-c31c-411a-fb92-ebbfb91b20e3"
   },
   "outputs": [
    {
     "name": "stdout",
     "output_type": "stream",
     "text": [
      "b is not greater than a\n"
     ]
    }
   ],
   "source": [
    "a = 200\n",
    "b = 33\n",
    "if b > a:\n",
    "  print(\"b is greater than a\")\n",
    "else:\n",
    "  print(\"b is not greater than a\")"
   ]
  },
  {
   "cell_type": "markdown",
   "metadata": {
    "colab_type": "text",
    "id": "1HZeX0hoBaw8"
   },
   "source": [
    "### Short Hand If\n",
    "\n",
    "If you have only one statement to execute, you can put it on the same line as the if statement."
   ]
  },
  {
   "cell_type": "code",
   "execution_count": 6,
   "metadata": {
    "colab": {
     "base_uri": "https://localhost:8080/",
     "height": 34
    },
    "colab_type": "code",
    "executionInfo": {
     "elapsed": 1243,
     "status": "ok",
     "timestamp": 1598421888630,
     "user": {
      "displayName": "Muneendra Ojha",
      "photoUrl": "",
      "userId": "10449312593596927815"
     },
     "user_tz": -330
    },
    "id": "LO_VrD6JBrBz",
    "outputId": "4a18d15f-f1f6-4f8a-dd27-5a3d20b5721f"
   },
   "outputs": [],
   "source": [
    "# One line if statement:\n",
    "\n",
    "if a > b: print(\"a is greater than b\")"
   ]
  },
  {
   "cell_type": "markdown",
   "metadata": {
    "colab_type": "text",
    "id": "wIWQW5LpBuAd"
   },
   "source": [
    "### Short Hand If ... Else\n",
    "**Ternary Operator**\n",
    "\n",
    "If you have only one statement to execute, one for if, and one for else, you can put it all on the same line:"
   ]
  },
  {
   "cell_type": "code",
   "execution_count": null,
   "metadata": {
    "colab": {
     "base_uri": "https://localhost:8080/",
     "height": 51
    },
    "colab_type": "code",
    "executionInfo": {
     "elapsed": 1273,
     "status": "ok",
     "timestamp": 1598422370068,
     "user": {
      "displayName": "Muneendra Ojha",
      "photoUrl": "",
      "userId": "10449312593596927815"
     },
     "user_tz": -330
    },
    "id": "5sNYHB_uBzSN",
    "outputId": "74790042-beaa-4952-a8f5-5c305a4dfa82"
   },
   "outputs": [
    {
     "name": "stdout",
     "output_type": "stream",
     "text": [
      "B\n",
      "247 25\n"
     ]
    }
   ],
   "source": [
    "# One line if else statement:\n",
    "\n",
    "a = 2\n",
    "b = 330\n",
    "print(\"A\") if a > b else print(\"B\")\n",
    "\n",
    "\n",
    "# Another example\n",
    "order_total = 247\n",
    "discount = 25 if order_total > 100 else 0\n",
    "print(order_total, discount)"
   ]
  },
  {
   "cell_type": "markdown",
   "metadata": {
    "colab_type": "text",
    "id": "Uql8_YYjCGvM"
   },
   "source": [
    "**The above technique is known as Ternary Operators, or Conditional Expressions.**"
   ]
  },
  {
   "cell_type": "markdown",
   "metadata": {
    "colab_type": "text",
    "id": "burubdlOCajL"
   },
   "source": [
    "You can also have multiple else statements on the same line:"
   ]
  },
  {
   "cell_type": "code",
   "execution_count": null,
   "metadata": {
    "colab": {
     "base_uri": "https://localhost:8080/",
     "height": 34
    },
    "colab_type": "code",
    "executionInfo": {
     "elapsed": 1266,
     "status": "ok",
     "timestamp": 1598422579748,
     "user": {
      "displayName": "Muneendra Ojha",
      "photoUrl": "",
      "userId": "10449312593596927815"
     },
     "user_tz": -330
    },
    "id": "gRZ50_f1CfWD",
    "outputId": "6a597178-775e-4475-f12b-e4e7bf57fbd3"
   },
   "outputs": [
    {
     "name": "stdout",
     "output_type": "stream",
     "text": [
      "equal\n"
     ]
    }
   ],
   "source": [
    "# One line if else statement, with 3 conditions:\n",
    "\n",
    "a = 330\n",
    "b = 330\n",
    "print(\"A\") if a > b else (print(\"equal\") if a == b else print(\"B\"))"
   ]
  },
  {
   "cell_type": "markdown",
   "metadata": {
    "colab_type": "text",
    "id": "oGSYqyZcCpI1"
   },
   "source": [
    "## **`and`**"
   ]
  },
  {
   "cell_type": "markdown",
   "metadata": {
    "colab_type": "text",
    "id": "rNBlVu-2CpAH"
   },
   "source": [
    "The and keyword is a logical operator, and is used to combine conditional statements:"
   ]
  },
  {
   "cell_type": "code",
   "execution_count": null,
   "metadata": {
    "colab": {
     "base_uri": "https://localhost:8080/",
     "height": 34
    },
    "colab_type": "code",
    "executionInfo": {
     "elapsed": 1214,
     "status": "ok",
     "timestamp": 1598422608440,
     "user": {
      "displayName": "Muneendra Ojha",
      "photoUrl": "",
      "userId": "10449312593596927815"
     },
     "user_tz": -330
    },
    "id": "60f1UTc5Co7l",
    "outputId": "21582fc5-17b9-4fdb-a727-0c380d90783f"
   },
   "outputs": [
    {
     "name": "stdout",
     "output_type": "stream",
     "text": [
      "Both conditions are True\n"
     ]
    }
   ],
   "source": [
    "# Test if a is greater than b, AND if c is greater than a:\n",
    "\n",
    "a = 200\n",
    "b = 33\n",
    "c = 500\n",
    "if a > b and c > a:\n",
    "  print(\"Both conditions are True\")"
   ]
  },
  {
   "cell_type": "markdown",
   "metadata": {
    "colab_type": "text",
    "id": "bnGsVZcpCo3S"
   },
   "source": [
    "## **`or`**"
   ]
  },
  {
   "cell_type": "markdown",
   "metadata": {
    "colab_type": "text",
    "id": "aTQESi_GCg3E"
   },
   "source": [
    "The or keyword is a logical operator, and is used to combine conditional statements:"
   ]
  },
  {
   "cell_type": "code",
   "execution_count": null,
   "metadata": {
    "colab": {
     "base_uri": "https://localhost:8080/",
     "height": 34
    },
    "colab_type": "code",
    "executionInfo": {
     "elapsed": 1204,
     "status": "ok",
     "timestamp": 1598422628894,
     "user": {
      "displayName": "Muneendra Ojha",
      "photoUrl": "",
      "userId": "10449312593596927815"
     },
     "user_tz": -330
    },
    "id": "m2fIGqBoC5DM",
    "outputId": "05185208-3b1f-48b8-d2fc-7fca20281322"
   },
   "outputs": [
    {
     "name": "stdout",
     "output_type": "stream",
     "text": [
      "At least one of the conditions is True\n"
     ]
    }
   ],
   "source": [
    "# Test if a is greater than b, OR if a is greater than c:\n",
    "\n",
    "a = 200\n",
    "b = 33\n",
    "c = 500\n",
    "if a > b or a > c:\n",
    "  print(\"At least one of the conditions is True\")"
   ]
  },
  {
   "cell_type": "markdown",
   "metadata": {
    "colab_type": "text",
    "id": "xjo-l19TC6Rs"
   },
   "source": [
    "## **Nested If**"
   ]
  },
  {
   "cell_type": "markdown",
   "metadata": {
    "colab_type": "text",
    "id": "I3vNKjaUDCvl"
   },
   "source": [
    "You can have if statements inside if statements, this is called nested if statements."
   ]
  },
  {
   "cell_type": "code",
   "execution_count": null,
   "metadata": {
    "colab": {
     "base_uri": "https://localhost:8080/",
     "height": 51
    },
    "colab_type": "code",
    "executionInfo": {
     "elapsed": 1175,
     "status": "ok",
     "timestamp": 1598422699776,
     "user": {
      "displayName": "Muneendra Ojha",
      "photoUrl": "",
      "userId": "10449312593596927815"
     },
     "user_tz": -330
    },
    "id": "Kq8-tL2DDHAk",
    "outputId": "19a9adb8-9d6a-4959-bff0-21cd27df6d5b"
   },
   "outputs": [
    {
     "name": "stdout",
     "output_type": "stream",
     "text": [
      "Above ten,\n",
      "and also above 20!\n"
     ]
    }
   ],
   "source": [
    "x = 21\n",
    "\n",
    "if x > 10:\n",
    "  print(\"Above ten,\")\n",
    "  if x > 20:\n",
    "    print(\"and also above 20!\")\n",
    "  else:\n",
    "    print(\"but not above 20.\")"
   ]
  },
  {
   "cell_type": "markdown",
   "metadata": {
    "colab_type": "text",
    "id": "uX6A34JPDJBF"
   },
   "source": [
    "## **The `pass` Statement**"
   ]
  },
  {
   "cell_type": "markdown",
   "metadata": {
    "colab_type": "text",
    "id": "HudQYGSdDde8"
   },
   "source": [
    "if statements cannot be empty, but if you for some reason have an if statement with no content, put in the `pass` statement to avoid getting an error."
   ]
  },
  {
   "cell_type": "code",
   "execution_count": 8,
   "metadata": {
    "colab": {},
    "colab_type": "code",
    "id": "rdJ2GhhXDgmM"
   },
   "outputs": [],
   "source": [
    "a = 33\n",
    "b = 200\n",
    "\n",
    "if b > a:\n",
    "    pass"
   ]
  },
  {
   "cell_type": "markdown",
   "metadata": {
    "colab_type": "text",
    "id": "iAOYVXGQeIvo"
   },
   "source": [
    "## **Practice Examples**"
   ]
  },
  {
   "cell_type": "markdown",
   "metadata": {
    "colab_type": "text",
    "id": "X0D8LzUZeahX"
   },
   "source": [
    "Pig Latin takes the first consonant of a word, moves it to the end of the word and adds on an “ay”. If a word begins with a vowel you just add “way” to the end. \n",
    "\n",
    "* For example, pig becomes igpay, banana becomes ananabay, and aadvark becomes aadvarkway. \n",
    "\n",
    "Create a program that will ask the user to enter a word and change it into Pig Latin. \n",
    "\n",
    "* Make sure the new word is displayed in lower case."
   ]
  },
  {
   "cell_type": "code",
   "execution_count": 9,
   "metadata": {
    "colab": {
     "base_uri": "https://localhost:8080/",
     "height": 51
    },
    "colab_type": "code",
    "executionInfo": {
     "elapsed": 5444,
     "status": "ok",
     "timestamp": 1598503467559,
     "user": {
      "displayName": "Muneendra Ojha",
      "photoUrl": "",
      "userId": "10449312593596927815"
     },
     "user_tz": -330
    },
    "id": "0NID25VWerI2",
    "outputId": "05aa52a5-a449-48ba-c9a4-28d156aa0b89"
   },
   "outputs": [
    {
     "name": "stdout",
     "output_type": "stream",
     "text": [
      "Please enter a word: Ojha\n",
      "ojha\n",
      "ojhaway\n"
     ]
    }
   ],
   "source": [
    "word = input(\"Please enter a word: \").lower()\n",
    "print(word)\n",
    "first = word[0]\n",
    "length = len(word)\n",
    "rest = word[1:length]\n",
    "if first == 'a' or first == 'e' or first == 'i' or first == 'o' or first == 'u':\n",
    "    newword = word + \"way\"\n",
    "else:\n",
    "    newword = rest + first + \"ay\"\n",
    "\n",
    "print(newword)"
   ]
  },
  {
   "cell_type": "code",
   "execution_count": null,
   "metadata": {
    "colab": {
     "base_uri": "https://localhost:8080/",
     "height": 136
    },
    "colab_type": "code",
    "executionInfo": {
     "elapsed": 20064,
     "status": "ok",
     "timestamp": 1598423210111,
     "user": {
      "displayName": "Muneendra Ojha",
      "photoUrl": "",
      "userId": "10449312593596927815"
     },
     "user_tz": -330
    },
    "id": "oA4d0g2ggoLz",
    "outputId": "4935151b-1cc8-4622-ee37-92800f925a8b"
   },
   "outputs": [
    {
     "name": "stdout",
     "output_type": "stream",
     "text": [
      "1) Square\n",
      "2) Triangle\n",
      "\n",
      "Enter a number: 2\n",
      "Enter the length of the base: 4\n",
      "Enter the height of the triangle: 2\n",
      "The area of your chosen shape is 4.0\n"
     ]
    }
   ],
   "source": [
    "print(\"1) Square\") \n",
    "print(\"2) Triangle\") \n",
    "print() \n",
    "menuselection = int(input(\"Enter a number: \")) \n",
    "if menuselection == 1: \n",
    "    side = int(input(\"Enter the length of one side: \")) \n",
    "    area = side*side \n",
    "    print(\"The area of your chosen shape is\", area) \n",
    "elif menuselection == 2: \n",
    "    base = int(input(\"Enter the length of the base: \")) \n",
    "    height = int(input(\"Enter the height of the triangle: \")) \n",
    "    area = (base*height)/2 \n",
    "    print(\"The area of your chosen shape is\", area) \n",
    "else:\n",
    "    print(\"Incorrect option selected\") "
   ]
  },
  {
   "cell_type": "markdown",
   "metadata": {
    "colab_type": "text",
    "id": "3XMn55uEMpY1"
   },
   "source": [
    "# **Boolean Values**"
   ]
  },
  {
   "cell_type": "markdown",
   "metadata": {
    "colab_type": "text",
    "id": "wkJWRJU7Mpek"
   },
   "source": [
    "In programming you often need to know if an expression is True or False.\n",
    "\n",
    "You can evaluate any expression in Python, and get one of two answers, True or False.\n",
    "\n",
    "When you compare two values, the expression is evaluated and Python returns the Boolean answer:"
   ]
  },
  {
   "cell_type": "code",
   "execution_count": null,
   "metadata": {
    "colab": {
     "base_uri": "https://localhost:8080/",
     "height": 68
    },
    "colab_type": "code",
    "executionInfo": {
     "elapsed": 3329,
     "status": "ok",
     "timestamp": 1598118262656,
     "user": {
      "displayName": "Muneendra Ojha",
      "photoUrl": "",
      "userId": "10449312593596927815"
     },
     "user_tz": -330
    },
    "id": "UkuyDo4oMpjp",
    "outputId": "eac4e458-3327-4fed-f433-efcd9fd027c0"
   },
   "outputs": [
    {
     "name": "stdout",
     "output_type": "stream",
     "text": [
      "True\n",
      "False\n",
      "False\n"
     ]
    }
   ],
   "source": [
    "print(10 > 9)\n",
    "print(10 == 9)\n",
    "print(10 < 9)"
   ]
  },
  {
   "cell_type": "markdown",
   "metadata": {
    "colab_type": "text",
    "id": "kqNdJJQxMpoN"
   },
   "source": [
    "When you run a condition in an if statement, Python returns `True` or `False`:"
   ]
  },
  {
   "cell_type": "code",
   "execution_count": 6,
   "metadata": {
    "colab": {
     "base_uri": "https://localhost:8080/",
     "height": 34
    },
    "colab_type": "code",
    "executionInfo": {
     "elapsed": 1285,
     "status": "ok",
     "timestamp": 1598503693917,
     "user": {
      "displayName": "Muneendra Ojha",
      "photoUrl": "",
      "userId": "10449312593596927815"
     },
     "user_tz": -330
    },
    "id": "OHhH3plbMpqn",
    "outputId": "4bbcab13-643d-44fe-e611-438115b1286f"
   },
   "outputs": [
    {
     "name": "stdout",
     "output_type": "stream",
     "text": [
      "b is not greater than a\n"
     ]
    }
   ],
   "source": [
    "# Print a message based on whether the condition is True or False:\n",
    "\n",
    "a = 200\n",
    "b = 33\n",
    "\n",
    "if b > a:\n",
    "  print(\"b is greater than a\")\n",
    "else:\n",
    "  print(\"b is not greater than a\")"
   ]
  },
  {
   "cell_type": "markdown",
   "metadata": {
    "colab_type": "text",
    "id": "VxtuP4yDMptI"
   },
   "source": [
    "## Evaluate Values and Variables"
   ]
  },
  {
   "cell_type": "markdown",
   "metadata": {
    "colab_type": "text",
    "id": "oNe6qvt5MpwC"
   },
   "source": [
    "The bool() function allows you to evaluate any value, and give you True or False in return,"
   ]
  },
  {
   "cell_type": "code",
   "execution_count": 10,
   "metadata": {
    "colab": {
     "base_uri": "https://localhost:8080/",
     "height": 68
    },
    "colab_type": "code",
    "executionInfo": {
     "elapsed": 1276,
     "status": "ok",
     "timestamp": 1598503804159,
     "user": {
      "displayName": "Muneendra Ojha",
      "photoUrl": "",
      "userId": "10449312593596927815"
     },
     "user_tz": -330
    },
    "id": "fgWoz2ayMpyo",
    "outputId": "476c16b9-580d-48f0-c373-b5607d3098dd"
   },
   "outputs": [
    {
     "name": "stdout",
     "output_type": "stream",
     "text": [
      "True\n",
      "True\n",
      "False\n"
     ]
    }
   ],
   "source": [
    "# Evaluate a string and a number:\n",
    "\n",
    "print(bool(\"Hello\"))\n",
    "print(bool(15))\n",
    "print(bool(int('0')))"
   ]
  },
  {
   "cell_type": "code",
   "execution_count": null,
   "metadata": {
    "colab": {
     "base_uri": "https://localhost:8080/",
     "height": 51
    },
    "colab_type": "code",
    "executionInfo": {
     "elapsed": 1150,
     "status": "ok",
     "timestamp": 1598119781215,
     "user": {
      "displayName": "Muneendra Ojha",
      "photoUrl": "",
      "userId": "10449312593596927815"
     },
     "user_tz": -330
    },
    "id": "zcIFbObkMp0_",
    "outputId": "154f557c-eb5f-412e-cfe8-4c349e11ef1f"
   },
   "outputs": [
    {
     "name": "stdout",
     "output_type": "stream",
     "text": [
      "True\n",
      "True\n"
     ]
    }
   ],
   "source": [
    "# Evaluate two variables:\n",
    "\n",
    "x = \"Hello\"\n",
    "y = 15\n",
    "\n",
    "print(bool(x))\n",
    "print(bool(y))"
   ]
  },
  {
   "cell_type": "markdown",
   "metadata": {
    "colab_type": "text",
    "id": "ZrGBkxqOMp3b"
   },
   "source": [
    "## Most Values are True"
   ]
  },
  {
   "cell_type": "markdown",
   "metadata": {
    "colab_type": "text",
    "id": "XcH2s1r3Mp5u"
   },
   "source": [
    "* Almost any value is evaluated to `True` if it has some sort of content.\n",
    "\n",
    "* Any string is `True`, except empty strings.\n",
    "\n",
    "* Any number is `True`, except `0`.\n",
    "\n",
    "* Any list, tuple, set, and dictionary are True, except empty ones."
   ]
  },
  {
   "cell_type": "code",
   "execution_count": 13,
   "metadata": {
    "colab": {
     "base_uri": "https://localhost:8080/",
     "height": 34
    },
    "colab_type": "code",
    "executionInfo": {
     "elapsed": 2108,
     "status": "ok",
     "timestamp": 1598503865310,
     "user": {
      "displayName": "Muneendra Ojha",
      "photoUrl": "",
      "userId": "10449312593596927815"
     },
     "user_tz": -330
    },
    "id": "UF4CjfBgMp8T",
    "outputId": "eec33470-4d47-485d-d9d5-cd58e2d63f2a"
   },
   "outputs": [
    {
     "data": {
      "text/plain": [
       "True"
      ]
     },
     "execution_count": 13,
     "metadata": {
      "tags": []
     },
     "output_type": "execute_result"
    }
   ],
   "source": [
    "# The following will return True:\n",
    "\n",
    "# bool(\"abc\")\n",
    "# bool(123)\n",
    "bool([\"apple\", \"cherry\", \"banana\"])"
   ]
  },
  {
   "cell_type": "markdown",
   "metadata": {
    "colab_type": "text",
    "id": "YLCWzasiMqA9"
   },
   "source": [
    "## Some Values are False"
   ]
  },
  {
   "cell_type": "markdown",
   "metadata": {
    "colab_type": "text",
    "id": "F2MyVlsVMqDc"
   },
   "source": [
    "In fact, there are not many values that evaluates to `False`, except empty values, such as `(), [], {}, \"\"`, the number `0`, and the value `None`. And of course the value `False` evaluates to `False`."
   ]
  },
  {
   "cell_type": "code",
   "execution_count": 18,
   "metadata": {
    "colab": {
     "base_uri": "https://localhost:8080/",
     "height": 136
    },
    "colab_type": "code",
    "executionInfo": {
     "elapsed": 1272,
     "status": "ok",
     "timestamp": 1598503982563,
     "user": {
      "displayName": "Muneendra Ojha",
      "photoUrl": "",
      "userId": "10449312593596927815"
     },
     "user_tz": -330
    },
    "id": "qlbeWaiyMqGI",
    "outputId": "5b51fc22-dc8c-4a80-cd11-1753b7a3998e"
   },
   "outputs": [
    {
     "name": "stdout",
     "output_type": "stream",
     "text": [
      "False\n",
      "False\n",
      "False\n",
      "False\n",
      "False\n",
      "False\n",
      "False\n"
     ]
    }
   ],
   "source": [
    "# The following will return False:\n",
    "\n",
    "print(bool(False))\n",
    "print(bool(None))\n",
    "print(bool(0))\n",
    "print(bool(\"\"))\n",
    "print(bool(()))\n",
    "print(bool([]))\n",
    "print(bool({}))"
   ]
  },
  {
   "cell_type": "markdown",
   "metadata": {
    "colab_type": "text",
    "id": "qD0GDmvjMqLL"
   },
   "source": [
    "One more value, or object in this case, evaluates to `False`, and that is if you have an object that is made from a class with a `__len__` function that returns `0` or `False`:"
   ]
  },
  {
   "cell_type": "code",
   "execution_count": null,
   "metadata": {
    "colab": {
     "base_uri": "https://localhost:8080/",
     "height": 34
    },
    "colab_type": "code",
    "executionInfo": {
     "elapsed": 1038,
     "status": "ok",
     "timestamp": 1598120492084,
     "user": {
      "displayName": "Muneendra Ojha",
      "photoUrl": "",
      "userId": "10449312593596927815"
     },
     "user_tz": -330
    },
    "id": "UAAsRAlWMqOf",
    "outputId": "64086b2e-2937-4fb2-ea47-5c902c8541bb"
   },
   "outputs": [
    {
     "name": "stdout",
     "output_type": "stream",
     "text": [
      "False\n"
     ]
    }
   ],
   "source": [
    "class myclass():\n",
    "  def __len__(self):\n",
    "    return 0\n",
    "\n",
    "myobj = myclass()\n",
    "print(bool(myobj))"
   ]
  }
 ],
 "metadata": {
  "colab": {
   "authorship_tag": "ABX9TyMCYhQ6JM3X4cBBZS6DyAPT",
   "collapsed_sections": [],
   "name": "Python_3.ipynb",
   "provenance": []
  },
  "kernelspec": {
   "display_name": "Python 3",
   "language": "python",
   "name": "python3"
  },
  "language_info": {
   "codemirror_mode": {
    "name": "ipython",
    "version": 3
   },
   "file_extension": ".py",
   "mimetype": "text/x-python",
   "name": "python",
   "nbconvert_exporter": "python",
   "pygments_lexer": "ipython3",
   "version": "3.6.4"
  }
 },
 "nbformat": 4,
 "nbformat_minor": 1
}
